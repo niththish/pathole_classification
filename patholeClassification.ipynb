In [5]:
import numpy as np
import cv2
import os
import matplotlib.pyplot as plt
import random
import pickle
In [6]:
DIRECTORY=r'D:\jupyter\pathole'
CATEGORIES=['normal','pothole']
In [9]:
IMG_SIZE=100;
data=[]

for category in CATEGORIES:
    folder=os.path.join(DIRECTORY,category)
    label=CATEGORIES.index(category)
    for img in os.listdir(folder):
        img_path=os.path.join(folder,img)
        img_arr=cv2.imread(img_path)
        img_arr=cv2.resize(img_arr,(IMG_SIZE,IMG_SIZE))
        data.append([img_arr,label])
In [10]:
len(data)
Out[10]:
100
In [11]:
random.shuffle(data)
In [12]:
X=[]
Y=[]

for features,labels in data:
    X.append(features)
    Y.append(labels)
In [13]:
X=np.array(X)
Y=np.array(Y)
In [14]:
X=X/255
In [27]:
X.shape
Out[27]:
(100, 100, 100, 3)
In [16]:
from keras.models import Sequential
from keras.layers import Conv2D,MaxPooling2D,Flatten,Dense
In [17]:
model=Sequential()
model.add( Conv2D(64,(3,3), activation='relu' ) )
model.add( MaxPooling2D( (2,2) ) )

model.add( Conv2D(64,(3,3), activation='relu' ) )
model.add( MaxPooling2D( (2,2) ) )

model.add( Flatten() )

model.add( Dense(128,input_shape=X.shape[1:],activation='relu') )
model.add(Dense(2,activation='softmax'))
In [18]:
model.compile(optimizer='adam',loss='sparse_categorical_crossentropy',metrics=['accuracy'])
In [28]:
model.fit(X,Y,epochs=5,validation_split=0.1)
Epoch 1/5
3/3 [==============================] - 1s 317ms/step - loss: 0.0041 - accuracy: 1.0000 - val_loss: 0.1983 - val_accuracy: 0.8000
Epoch 2/5
3/3 [==============================] - 1s 293ms/step - loss: 0.0016 - accuracy: 1.0000 - val_loss: 0.0658 - val_accuracy: 1.0000
Epoch 3/5
3/3 [==============================] - 1s 294ms/step - loss: 0.0016 - accuracy: 1.0000 - val_loss: 0.0998 - val_accuracy: 1.0000
Epoch 4/5
3/3 [==============================] - 1s 299ms/step - loss: 9.7357e-04 - accuracy: 1.0000 - val_loss: 0.2842 - val_accuracy: 0.8000
Epoch 5/5
3/3 [==============================] - 1s 300ms/step - loss: 8.5537e-04 - accuracy: 1.0000 - val_loss: 0.2211 - val_accuracy: 0.8000
Out[28]:
<tensorflow.python.keras.callbacks.History at 0x2e92a9de940>
In [69]:
#for normal road < 0.5
model.evaluate(X,Y)[0]
4/4 [==============================] - 0s 74ms/step - loss: 0.0227 - accuracy: 0.9800
Out[69]:
0.022677669301629066
In [70]:
#for pothole roads value > 0.5
model.evaluate(X,Y)[1]
4/4 [==============================] - 0s 73ms/step - loss: 0.0227 - accuracy: 0.9800
Out[70]:
0.9800000190734863
In [118]:
predict_data=data[10]
x=predict_data[0]
In [119]:
plt.imshow(x)
Out[119]:
<matplotlib.image.AxesImage at 0x2e92bf4e9a0>

In [120]:
predictions=model.predict(np.array([x]))
predictions
Out[120]:
array([[0., 1.]], dtype=float32)
In [121]:
if(predictions[0][0]==1):
    print("The road is normal")

if(predictions[0][1]==1):
    print("The road has potholes")
The road has potholes
In [140]:
predict_data=data[99]
x=predict_data[0]

plt.imshow(x)
Out[140]:
<matplotlib.image.AxesImage at 0x2e927390460>

In [141]:
predictions=model.predict(np.array([x]))
predictions
Out[141]:
array([[1., 0.]], dtype=float32)
In [142]:
if(predictions[0][0]==1):
    print("The road is normal")

if(predictions[0][1]==1):
    print("The road has potholes")
The road is normal
In [ ]:
